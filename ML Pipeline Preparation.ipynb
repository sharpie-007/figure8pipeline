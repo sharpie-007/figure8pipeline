{
 "cells": [
  {
   "cell_type": "markdown",
   "metadata": {},
   "source": [
    "# ML Pipeline Preparation\n",
    "Follow the instructions below to help you create your ML pipeline.\n",
    "### 1. Import libraries and load data from database.\n",
    "- Import Python libraries\n",
    "- Load dataset from database with [`read_sql_table`](https://pandas.pydata.org/pandas-docs/stable/generated/pandas.read_sql_table.html)\n",
    "- Define feature and target variables X and Y"
   ]
  },
  {
   "cell_type": "code",
   "execution_count": 23,
   "metadata": {
    "ExecuteTime": {
     "end_time": "2019-02-06T14:39:19.920254Z",
     "start_time": "2019-02-06T14:39:19.849436Z"
    }
   },
   "outputs": [],
   "source": [
    "import pandas as pd\n",
    "import pickle\n",
    "from sqlalchemy import create_engine\n",
    "from keras.preprocessing.text import Tokenizer\n",
    "from sklearn.model_selection import train_test_split\n",
    "import numpy as np\n",
    "from sklearn.pipeline import Pipeline\n",
    "from sklearn.model_selection import train_test_split\n",
    "from sklearn.multioutput import MultiOutputClassifier\n",
    "from sklearn.ensemble import RandomForestClassifier\n",
    "from sklearn.linear_model import LogisticRegression\n",
    "from sklearn.model_selection import GridSearchCV\n",
    "from sklearn.model_selection import train_test_split\n",
    "from sklearn.feature_extraction.text import CountVectorizer, TfidfVectorizer\n",
    "from sklearn.metrics import accuracy_score, confusion_matrix"
   ]
  },
  {
   "cell_type": "code",
   "execution_count": 2,
   "metadata": {
    "ExecuteTime": {
     "end_time": "2019-02-03T22:24:07.185430Z",
     "start_time": "2019-02-03T22:24:06.664169Z"
    }
   },
   "outputs": [],
   "source": [
    "# load data from database\n",
    "engine = create_engine('sqlite:///messages.db')\n",
    "df = pd.read_sql('messages_table', engine)\n",
    "messages = df.iloc[:,0:3]\n",
    "categories = df.iloc[:,4:-1] "
   ]
  },
  {
   "cell_type": "code",
   "execution_count": 3,
   "metadata": {
    "ExecuteTime": {
     "end_time": "2019-02-03T22:24:07.278329Z",
     "start_time": "2019-02-03T22:24:07.187102Z"
    }
   },
   "outputs": [],
   "source": [
    "categories = categories.astype(int)"
   ]
  },
  {
   "cell_type": "code",
   "execution_count": 4,
   "metadata": {
    "ExecuteTime": {
     "end_time": "2019-02-03T22:24:07.296524Z",
     "start_time": "2019-02-03T22:24:07.280610Z"
    }
   },
   "outputs": [
    {
     "data": {
      "text/plain": [
       "related                   20282\n",
       "request                    4474\n",
       "offer                       118\n",
       "aid_related               10860\n",
       "medical_help               2084\n",
       "medical_products           1313\n",
       "search_and_rescue           724\n",
       "security                    471\n",
       "military                    860\n",
       "child_alone                   0\n",
       "water                      1672\n",
       "food                       2923\n",
       "shelter                    2314\n",
       "clothing                    405\n",
       "money                       604\n",
       "missing_people              298\n",
       "refugees                    875\n",
       "death                      1194\n",
       "other_aid                  3446\n",
       "infrastructure_related     1705\n",
       "transport                  1201\n",
       "buildings                  1333\n",
       "electricity                 532\n",
       "tools                       159\n",
       "hospitals                   283\n",
       "shops                       120\n",
       "aid_centers                 309\n",
       "other_infrastructure       1151\n",
       "weather_related            7297\n",
       "floods                     2155\n",
       "storm                      2443\n",
       "fire                        282\n",
       "earthquake                 2455\n",
       "cold                        530\n",
       "other_weather              1376\n",
       "dtype: int64"
      ]
     },
     "execution_count": 4,
     "metadata": {},
     "output_type": "execute_result"
    }
   ],
   "source": [
    "categories.sum()"
   ]
  },
  {
   "cell_type": "code",
   "execution_count": 5,
   "metadata": {
    "ExecuteTime": {
     "end_time": "2019-02-03T22:24:07.303387Z",
     "start_time": "2019-02-03T22:24:07.298177Z"
    }
   },
   "outputs": [],
   "source": [
    "#There are no features of this type, therefore dropping\n",
    "categories.drop(columns=['child_alone'], inplace=True)"
   ]
  },
  {
   "cell_type": "markdown",
   "metadata": {},
   "source": [
    "### 2. Write a tokenization function to process your text data"
   ]
  },
  {
   "cell_type": "code",
   "execution_count": 6,
   "metadata": {
    "ExecuteTime": {
     "end_time": "2019-02-03T22:24:07.309417Z",
     "start_time": "2019-02-03T22:24:07.305828Z"
    }
   },
   "outputs": [],
   "source": [
    "# We'll need the tokenizer and the vocab in order to re-use the model.\n",
    "# I'm using Keras' features here because they're incredibly quick and take take of the casing \n",
    "# and punctuation already.\n",
    "# It also supports sequencing (i.e. Word2Vec) and matrices so we can play around with the \n",
    "# text input models.\n",
    "# See https://keras.io/preprocessing/text/ for details\n",
    "\n",
    "\n",
    "def tokenize(text, vocab_size):\n",
    "    tokenizer = Tokenizer(num_words=vocab_size)\n",
    "    tokenizer.fit_on_texts(text)\n",
    "    encoded_docs = tokenizer.texts_to_matrix(text, mode = 'count')\n",
    "    return tokenizer, encoded_docs"
   ]
  },
  {
   "cell_type": "code",
   "execution_count": 7,
   "metadata": {
    "ExecuteTime": {
     "end_time": "2019-02-03T22:24:07.328158Z",
     "start_time": "2019-02-03T22:24:07.311626Z"
    }
   },
   "outputs": [
    {
     "data": {
      "text/html": [
       "<div>\n",
       "<style scoped>\n",
       "    .dataframe tbody tr th:only-of-type {\n",
       "        vertical-align: middle;\n",
       "    }\n",
       "\n",
       "    .dataframe tbody tr th {\n",
       "        vertical-align: top;\n",
       "    }\n",
       "\n",
       "    .dataframe thead th {\n",
       "        text-align: right;\n",
       "    }\n",
       "</style>\n",
       "<table border=\"1\" class=\"dataframe\">\n",
       "  <thead>\n",
       "    <tr style=\"text-align: right;\">\n",
       "      <th></th>\n",
       "      <th>id</th>\n",
       "      <th>message</th>\n",
       "      <th>original</th>\n",
       "    </tr>\n",
       "  </thead>\n",
       "  <tbody>\n",
       "    <tr>\n",
       "      <th>0</th>\n",
       "      <td>2</td>\n",
       "      <td>Weather update - a cold front from Cuba that c...</td>\n",
       "      <td>Un front froid se retrouve sur Cuba ce matin. ...</td>\n",
       "    </tr>\n",
       "    <tr>\n",
       "      <th>1</th>\n",
       "      <td>7</td>\n",
       "      <td>Is the Hurricane over or is it not over</td>\n",
       "      <td>Cyclone nan fini osinon li pa fini</td>\n",
       "    </tr>\n",
       "    <tr>\n",
       "      <th>2</th>\n",
       "      <td>8</td>\n",
       "      <td>Looking for someone but no name</td>\n",
       "      <td>Patnm, di Maryani relem pou li banm nouvel li ...</td>\n",
       "    </tr>\n",
       "    <tr>\n",
       "      <th>3</th>\n",
       "      <td>9</td>\n",
       "      <td>UN reports Leogane 80-90 destroyed. Only Hospi...</td>\n",
       "      <td>UN reports Leogane 80-90 destroyed. Only Hospi...</td>\n",
       "    </tr>\n",
       "    <tr>\n",
       "      <th>4</th>\n",
       "      <td>12</td>\n",
       "      <td>says: west side of Haiti, rest of the country ...</td>\n",
       "      <td>facade ouest d Haiti et le reste du pays aujou...</td>\n",
       "    </tr>\n",
       "  </tbody>\n",
       "</table>\n",
       "</div>"
      ],
      "text/plain": [
       "   id                                            message  \\\n",
       "0   2  Weather update - a cold front from Cuba that c...   \n",
       "1   7            Is the Hurricane over or is it not over   \n",
       "2   8                    Looking for someone but no name   \n",
       "3   9  UN reports Leogane 80-90 destroyed. Only Hospi...   \n",
       "4  12  says: west side of Haiti, rest of the country ...   \n",
       "\n",
       "                                            original  \n",
       "0  Un front froid se retrouve sur Cuba ce matin. ...  \n",
       "1                 Cyclone nan fini osinon li pa fini  \n",
       "2  Patnm, di Maryani relem pou li banm nouvel li ...  \n",
       "3  UN reports Leogane 80-90 destroyed. Only Hospi...  \n",
       "4  facade ouest d Haiti et le reste du pays aujou...  "
      ]
     },
     "execution_count": 7,
     "metadata": {},
     "output_type": "execute_result"
    }
   ],
   "source": [
    "messages.head()"
   ]
  },
  {
   "cell_type": "code",
   "execution_count": 8,
   "metadata": {
    "ExecuteTime": {
     "end_time": "2019-02-03T22:24:09.284711Z",
     "start_time": "2019-02-03T22:24:07.329845Z"
    }
   },
   "outputs": [],
   "source": [
    "tok, X = tokenize(messages['message'], 5000)"
   ]
  },
  {
   "cell_type": "markdown",
   "metadata": {},
   "source": [
    "### 3. Build a machine learning pipeline\n",
    "This machine pipeline should take in the `message` column as input and output classification results on the other 36 categories in the dataset. You may find the [MultiOutputClassifier](http://scikit-learn.org/stable/modules/generated/sklearn.multioutput.MultiOutputClassifier.html) helpful for predicting multiple target variables."
   ]
  },
  {
   "cell_type": "code",
   "execution_count": 9,
   "metadata": {
    "ExecuteTime": {
     "end_time": "2019-02-03T22:24:09.288693Z",
     "start_time": "2019-02-03T22:24:09.286144Z"
    }
   },
   "outputs": [],
   "source": [
    "classifier = MultiOutputClassifier(RandomForestClassifier(n_jobs=4))\n",
    "pipeline = Pipeline([\n",
    "    ('classifier', MultiOutputClassifier(RandomForestClassifier()))\n",
    "])"
   ]
  },
  {
   "cell_type": "markdown",
   "metadata": {},
   "source": [
    "### 4. Train pipeline\n",
    "- Split data into train and test sets\n",
    "- Train pipeline"
   ]
  },
  {
   "cell_type": "code",
   "execution_count": 10,
   "metadata": {
    "ExecuteTime": {
     "end_time": "2019-02-03T22:24:10.289238Z",
     "start_time": "2019-02-03T22:24:09.291093Z"
    }
   },
   "outputs": [],
   "source": [
    "X_train, X_test, y_train, y_test = train_test_split(X, categories, test_size=0.2, random_state=42)"
   ]
  },
  {
   "cell_type": "code",
   "execution_count": 11,
   "metadata": {
    "ExecuteTime": {
     "end_time": "2019-02-03T22:35:37.102164Z",
     "start_time": "2019-02-03T22:24:10.291732Z"
    }
   },
   "outputs": [
    {
     "data": {
      "text/plain": [
       "Pipeline(memory=None,\n",
       "     steps=[('classifier', MultiOutputClassifier(estimator=RandomForestClassifier(bootstrap=True, class_weight=None, criterion='gini',\n",
       "            max_depth=None, max_features='auto', max_leaf_nodes=None,\n",
       "            min_impurity_decrease=0.0, min_impurity_split=None,\n",
       "            min_samples_leaf=1, min_samples_split=2,\n",
       "            min_weight_fraction_leaf=0.0, n_estimators=10, n_jobs=1,\n",
       "            oob_score=False, random_state=None, verbose=0,\n",
       "            warm_start=False),\n",
       "           n_jobs=1))])"
      ]
     },
     "execution_count": 11,
     "metadata": {},
     "output_type": "execute_result"
    }
   ],
   "source": [
    "pipeline.fit(X_train, y_train)"
   ]
  },
  {
   "cell_type": "markdown",
   "metadata": {},
   "source": [
    "### 5. Test your model\n",
    "Report the f1 score, precision and recall for each output category of the dataset. You can do this by iterating through the columns and calling sklearn's `classification_report` on each."
   ]
  },
  {
   "cell_type": "code",
   "execution_count": 12,
   "metadata": {
    "ExecuteTime": {
     "end_time": "2019-02-03T22:35:40.398072Z",
     "start_time": "2019-02-03T22:35:37.104620Z"
    }
   },
   "outputs": [],
   "source": [
    "y_pred = pipeline.predict(X_test)"
   ]
  },
  {
   "cell_type": "code",
   "execution_count": 13,
   "metadata": {
    "ExecuteTime": {
     "end_time": "2019-02-03T22:35:40.483125Z",
     "start_time": "2019-02-03T22:35:40.400145Z"
    },
    "scrolled": false
   },
   "outputs": [
    {
     "name": "stdout",
     "output_type": "stream",
     "text": [
      "related \n",
      "              precision    recall  f1-score   support\n",
      "\n",
      "          0       0.60      0.38      0.47      1266\n",
      "          1       0.82      0.92      0.86      3938\n",
      "          2       0.54      0.50      0.52        40\n",
      "\n",
      "avg / total       0.76      0.78      0.77      5244\n",
      "\n",
      "request \n",
      "              precision    recall  f1-score   support\n",
      "\n",
      "          0       0.89      0.98      0.93      4349\n",
      "          1       0.81      0.41      0.54       895\n",
      "\n",
      "avg / total       0.88      0.88      0.87      5244\n",
      "\n",
      "offer \n",
      "              precision    recall  f1-score   support\n",
      "\n",
      "          0       1.00      1.00      1.00      5218\n",
      "          1       0.00      0.00      0.00        26\n",
      "\n",
      "avg / total       0.99      1.00      0.99      5244\n",
      "\n",
      "aid_related \n",
      "              precision    recall  f1-score   support\n",
      "\n",
      "          0       0.75      0.86      0.80      3113\n",
      "          1       0.74      0.59      0.66      2131\n",
      "\n",
      "avg / total       0.75      0.75      0.74      5244\n",
      "\n",
      "medical_help \n",
      "              precision    recall  f1-score   support\n",
      "\n",
      "          0       0.93      0.99      0.96      4822\n",
      "          1       0.62      0.16      0.26       422\n",
      "\n",
      "avg / total       0.91      0.92      0.90      5244\n",
      "\n",
      "medical_products \n",
      "              precision    recall  f1-score   support\n",
      "\n",
      "          0       0.95      1.00      0.98      4974\n",
      "          1       0.65      0.13      0.21       270\n",
      "\n",
      "avg / total       0.94      0.95      0.94      5244\n",
      "\n",
      "search_and_rescue \n",
      "              precision    recall  f1-score   support\n",
      "\n",
      "          0       0.98      1.00      0.99      5117\n",
      "          1       0.68      0.12      0.20       127\n",
      "\n",
      "avg / total       0.97      0.98      0.97      5244\n",
      "\n",
      "security \n",
      "              precision    recall  f1-score   support\n",
      "\n",
      "          0       0.98      1.00      0.99      5156\n",
      "          1       0.20      0.01      0.02        88\n",
      "\n",
      "avg / total       0.97      0.98      0.97      5244\n",
      "\n",
      "military \n",
      "              precision    recall  f1-score   support\n",
      "\n",
      "          0       0.97      1.00      0.99      5089\n",
      "          1       0.56      0.13      0.21       155\n",
      "\n",
      "avg / total       0.96      0.97      0.96      5244\n",
      "\n",
      "water \n",
      "              precision    recall  f1-score   support\n",
      "\n",
      "          0       0.96      1.00      0.98      4905\n",
      "          1       0.85      0.34      0.49       339\n",
      "\n",
      "avg / total       0.95      0.95      0.94      5244\n",
      "\n",
      "food \n",
      "              precision    recall  f1-score   support\n",
      "\n",
      "          0       0.94      0.99      0.96      4649\n",
      "          1       0.83      0.50      0.62       595\n",
      "\n",
      "avg / total       0.93      0.93      0.92      5244\n",
      "\n",
      "shelter \n",
      "              precision    recall  f1-score   support\n",
      "\n",
      "          0       0.94      0.99      0.97      4774\n",
      "          1       0.80      0.36      0.50       470\n",
      "\n",
      "avg / total       0.93      0.93      0.92      5244\n",
      "\n",
      "clothing \n",
      "              precision    recall  f1-score   support\n",
      "\n",
      "          0       0.99      1.00      0.99      5171\n",
      "          1       0.71      0.07      0.12        73\n",
      "\n",
      "avg / total       0.98      0.99      0.98      5244\n",
      "\n",
      "money \n",
      "              precision    recall  f1-score   support\n",
      "\n",
      "          0       0.98      1.00      0.99      5140\n",
      "          1       0.53      0.09      0.15       104\n",
      "\n",
      "avg / total       0.97      0.98      0.97      5244\n",
      "\n",
      "missing_people \n",
      "              precision    recall  f1-score   support\n",
      "\n",
      "          0       0.99      1.00      0.99      5184\n",
      "          1       1.00      0.02      0.03        60\n",
      "\n",
      "avg / total       0.99      0.99      0.98      5244\n",
      "\n",
      "refugees \n",
      "              precision    recall  f1-score   support\n",
      "\n",
      "          0       0.97      1.00      0.98      5073\n",
      "          1       0.48      0.09      0.16       171\n",
      "\n",
      "avg / total       0.95      0.97      0.96      5244\n",
      "\n",
      "death \n",
      "              precision    recall  f1-score   support\n",
      "\n",
      "          0       0.96      1.00      0.98      5007\n",
      "          1       0.75      0.21      0.32       237\n",
      "\n",
      "avg / total       0.95      0.96      0.95      5244\n",
      "\n",
      "other_aid \n",
      "              precision    recall  f1-score   support\n",
      "\n",
      "          0       0.87      0.99      0.93      4549\n",
      "          1       0.50      0.06      0.11       695\n",
      "\n",
      "avg / total       0.82      0.87      0.82      5244\n",
      "\n",
      "infrastructure_related \n",
      "              precision    recall  f1-score   support\n",
      "\n",
      "          0       0.94      1.00      0.97      4916\n",
      "          1       0.38      0.02      0.03       328\n",
      "\n",
      "avg / total       0.90      0.94      0.91      5244\n",
      "\n",
      "transport \n",
      "              precision    recall  f1-score   support\n",
      "\n",
      "          0       0.96      1.00      0.98      5004\n",
      "          1       0.69      0.11      0.19       240\n",
      "\n",
      "avg / total       0.95      0.96      0.94      5244\n",
      "\n",
      "buildings \n",
      "              precision    recall  f1-score   support\n",
      "\n",
      "          0       0.96      1.00      0.98      4977\n",
      "          1       0.77      0.13      0.22       267\n",
      "\n",
      "avg / total       0.95      0.95      0.94      5244\n",
      "\n",
      "electricity \n",
      "              precision    recall  f1-score   support\n",
      "\n",
      "          0       0.98      1.00      0.99      5122\n",
      "          1       0.80      0.03      0.06       122\n",
      "\n",
      "avg / total       0.97      0.98      0.97      5244\n",
      "\n",
      "tools \n",
      "              precision    recall  f1-score   support\n",
      "\n",
      "          0       0.99      1.00      1.00      5212\n",
      "          1       0.00      0.00      0.00        32\n",
      "\n",
      "avg / total       0.99      0.99      0.99      5244\n",
      "\n",
      "hospitals \n",
      "              precision    recall  f1-score   support\n",
      "\n",
      "          0       0.99      1.00      1.00      5198\n",
      "          1       0.00      0.00      0.00        46\n",
      "\n",
      "avg / total       0.98      0.99      0.99      5244\n",
      "\n",
      "shops \n",
      "              precision    recall  f1-score   support\n",
      "\n",
      "          0       1.00      1.00      1.00      5222\n",
      "          1       0.00      0.00      0.00        22\n",
      "\n",
      "avg / total       0.99      1.00      0.99      5244\n",
      "\n",
      "aid_centers \n",
      "              precision    recall  f1-score   support\n",
      "\n",
      "          0       0.99      1.00      0.99      5177\n",
      "          1       0.00      0.00      0.00        67\n",
      "\n",
      "avg / total       0.97      0.99      0.98      5244\n",
      "\n",
      "other_infrastructure \n",
      "              precision    recall  f1-score   support\n",
      "\n",
      "          0       0.96      1.00      0.98      5021\n",
      "          1       0.20      0.01      0.02       223\n",
      "\n",
      "avg / total       0.93      0.96      0.94      5244\n",
      "\n",
      "weather_related \n",
      "              precision    recall  f1-score   support\n",
      "\n",
      "          0       0.88      0.95      0.91      3806\n",
      "          1       0.84      0.65      0.73      1438\n",
      "\n",
      "avg / total       0.87      0.87      0.86      5244\n",
      "\n",
      "floods \n",
      "              precision    recall  f1-score   support\n",
      "\n",
      "          0       0.95      1.00      0.97      4833\n",
      "          1       0.88      0.40      0.55       411\n",
      "\n",
      "avg / total       0.95      0.95      0.94      5244\n",
      "\n",
      "storm \n",
      "              precision    recall  f1-score   support\n",
      "\n",
      "          0       0.95      0.98      0.97      4758\n",
      "          1       0.74      0.50      0.59       486\n",
      "\n",
      "avg / total       0.93      0.94      0.93      5244\n",
      "\n",
      "fire \n",
      "              precision    recall  f1-score   support\n",
      "\n",
      "          0       0.99      1.00      0.99      5191\n",
      "          1       0.50      0.02      0.04        53\n",
      "\n",
      "avg / total       0.99      0.99      0.99      5244\n",
      "\n",
      "earthquake \n",
      "              precision    recall  f1-score   support\n",
      "\n",
      "          0       0.97      0.99      0.98      4766\n",
      "          1       0.88      0.73      0.80       478\n",
      "\n",
      "avg / total       0.96      0.97      0.96      5244\n",
      "\n",
      "cold \n",
      "              precision    recall  f1-score   support\n",
      "\n",
      "          0       0.98      1.00      0.99      5127\n",
      "          1       0.72      0.15      0.25       117\n",
      "\n",
      "avg / total       0.98      0.98      0.97      5244\n",
      "\n"
     ]
    },
    {
     "name": "stderr",
     "output_type": "stream",
     "text": [
      "/Users/carl.sharpe/anaconda3/lib/python3.6/site-packages/sklearn/metrics/classification.py:1135: UndefinedMetricWarning: Precision and F-score are ill-defined and being set to 0.0 in labels with no predicted samples.\n",
      "  'precision', 'predicted', average, warn_for)\n"
     ]
    }
   ],
   "source": [
    "from sklearn.metrics import classification_report\n",
    "for i in range (0, len(y_pred[0])-1):\n",
    "    truth = y_test.iloc[:,i:i+1]\n",
    "    prediction = y_pred[:,i:i+1]\n",
    "    print(y_test.columns[i], \"\\n\", classification_report(truth, prediction))"
   ]
  },
  {
   "cell_type": "markdown",
   "metadata": {},
   "source": [
    "### 6. Improve your model\n",
    "Use grid search to find better parameters. "
   ]
  },
  {
   "cell_type": "code",
   "execution_count": 14,
   "metadata": {
    "ExecuteTime": {
     "end_time": "2019-02-03T22:35:40.486886Z",
     "start_time": "2019-02-03T22:35:40.484414Z"
    }
   },
   "outputs": [],
   "source": [
    "parameters = [{'classifier__estimator__n_estimators': [20, 30],\n",
    "              'classifier__estimator__criterion': ['gini', 'entropy']}]\n",
    "cv = GridSearchCV(pipeline, parameters, cv=5)"
   ]
  },
  {
   "cell_type": "code",
   "execution_count": 15,
   "metadata": {
    "ExecuteTime": {
     "end_time": "2019-02-04T15:26:30.939879Z",
     "start_time": "2019-02-03T22:35:40.488816Z"
    }
   },
   "outputs": [
    {
     "data": {
      "text/plain": [
       "GridSearchCV(cv=5, error_score='raise',\n",
       "       estimator=Pipeline(memory=None,\n",
       "     steps=[('classifier', MultiOutputClassifier(estimator=RandomForestClassifier(bootstrap=True, class_weight=None, criterion='gini',\n",
       "            max_depth=None, max_features='auto', max_leaf_nodes=None,\n",
       "            min_impurity_decrease=0.0, min_impurity_split=None,...ob_score=False, random_state=None, verbose=0,\n",
       "            warm_start=False),\n",
       "           n_jobs=1))]),\n",
       "       fit_params=None, iid=True, n_jobs=1,\n",
       "       param_grid=[{'classifier__estimator__n_estimators': [20, 30], 'classifier__estimator__criterion': ['gini', 'entropy']}],\n",
       "       pre_dispatch='2*n_jobs', refit=True, return_train_score='warn',\n",
       "       scoring=None, verbose=0)"
      ]
     },
     "execution_count": 15,
     "metadata": {},
     "output_type": "execute_result"
    }
   ],
   "source": [
    "cv.fit(X_train, y_train)"
   ]
  },
  {
   "cell_type": "markdown",
   "metadata": {},
   "source": [
    "### 7. Test your model\n",
    "Show the accuracy, precision, and recall of the tuned model.  \n",
    "\n",
    "Since this project focuses on code quality, process, and  pipelines, there is no minimum performance metric needed to pass. However, make sure to fine tune your models for accuracy, precision and recall to make your project stand out - especially for your portfolio!"
   ]
  },
  {
   "cell_type": "code",
   "execution_count": 16,
   "metadata": {
    "ExecuteTime": {
     "end_time": "2019-02-04T15:26:30.997509Z",
     "start_time": "2019-02-04T15:26:30.966065Z"
    }
   },
   "outputs": [
    {
     "name": "stdout",
     "output_type": "stream",
     "text": [
      "0.264 (+/-0.010) for {'classifier__estimator__criterion': 'gini', 'classifier__estimator__n_estimators': 20}\n",
      "0.265 (+/-0.016) for {'classifier__estimator__criterion': 'gini', 'classifier__estimator__n_estimators': 30}\n",
      "0.255 (+/-0.010) for {'classifier__estimator__criterion': 'entropy', 'classifier__estimator__n_estimators': 20}\n",
      "0.262 (+/-0.015) for {'classifier__estimator__criterion': 'entropy', 'classifier__estimator__n_estimators': 30}\n",
      "\n"
     ]
    }
   ],
   "source": [
    "means = cv.cv_results_['mean_test_score']\n",
    "stds = cv.cv_results_['std_test_score']\n",
    "for mean, std, params in zip(means, stds, cv.cv_results_['params']):\n",
    "    print(\"%0.3f (+/-%0.03f) for %r\"\n",
    "          % (mean, std * 2, params))\n",
    "print()"
   ]
  },
  {
   "cell_type": "markdown",
   "metadata": {},
   "source": [
    "### 8. Try improving your model further. Here are a few ideas:\n",
    "* try other machine learning algorithms\n",
    "* add other features besides the TF-IDF"
   ]
  },
  {
   "cell_type": "code",
   "execution_count": 19,
   "metadata": {
    "ExecuteTime": {
     "end_time": "2019-02-04T15:51:41.261292Z",
     "start_time": "2019-02-04T15:51:41.249696Z"
    }
   },
   "outputs": [],
   "source": [
    "classifier = MultiOutputClassifier(\n",
    "    RandomForestClassifier(n_estimators=1000, n_jobs=4))\n",
    "pipeline = Pipeline([\n",
    "    ('classifier', MultiOutputClassifier(RandomForestClassifier()))\n",
    "])"
   ]
  },
  {
   "cell_type": "code",
   "execution_count": 20,
   "metadata": {
    "ExecuteTime": {
     "end_time": "2019-02-04T16:03:24.897642Z",
     "start_time": "2019-02-04T15:52:27.435849Z"
    }
   },
   "outputs": [
    {
     "data": {
      "text/plain": [
       "Pipeline(memory=None,\n",
       "     steps=[('classifier', MultiOutputClassifier(estimator=RandomForestClassifier(bootstrap=True, class_weight=None, criterion='gini',\n",
       "            max_depth=None, max_features='auto', max_leaf_nodes=None,\n",
       "            min_impurity_decrease=0.0, min_impurity_split=None,\n",
       "            min_samples_leaf=1, min_samples_split=2,\n",
       "            min_weight_fraction_leaf=0.0, n_estimators=10, n_jobs=1,\n",
       "            oob_score=False, random_state=None, verbose=0,\n",
       "            warm_start=False),\n",
       "           n_jobs=1))])"
      ]
     },
     "execution_count": 20,
     "metadata": {},
     "output_type": "execute_result"
    }
   ],
   "source": [
    "pipeline.fit(X_train, y_train)"
   ]
  },
  {
   "cell_type": "code",
   "execution_count": 21,
   "metadata": {
    "ExecuteTime": {
     "end_time": "2019-02-04T16:17:34.192880Z",
     "start_time": "2019-02-04T16:17:30.047823Z"
    }
   },
   "outputs": [],
   "source": [
    "y_pred = pipeline.predict(X_test)"
   ]
  },
  {
   "cell_type": "code",
   "execution_count": 22,
   "metadata": {
    "ExecuteTime": {
     "end_time": "2019-02-04T16:17:34.306019Z",
     "start_time": "2019-02-04T16:17:34.194920Z"
    },
    "scrolled": false
   },
   "outputs": [
    {
     "name": "stdout",
     "output_type": "stream",
     "text": [
      "related \n",
      "              precision    recall  f1-score   support\n",
      "\n",
      "          0       0.61      0.37      0.46      1266\n",
      "          1       0.82      0.92      0.87      3938\n",
      "          2       0.56      0.62      0.59        40\n",
      "\n",
      "avg / total       0.77      0.79      0.77      5244\n",
      "\n",
      "request \n",
      "              precision    recall  f1-score   support\n",
      "\n",
      "          0       0.89      0.98      0.93      4349\n",
      "          1       0.83      0.41      0.55       895\n",
      "\n",
      "avg / total       0.88      0.88      0.87      5244\n",
      "\n",
      "offer \n",
      "              precision    recall  f1-score   support\n",
      "\n",
      "          0       1.00      1.00      1.00      5218\n",
      "          1       0.00      0.00      0.00        26\n",
      "\n",
      "avg / total       0.99      1.00      0.99      5244\n",
      "\n",
      "aid_related \n",
      "              precision    recall  f1-score   support\n",
      "\n",
      "          0       0.75      0.87      0.81      3113\n",
      "          1       0.75      0.58      0.66      2131\n",
      "\n",
      "avg / total       0.75      0.75      0.74      5244\n",
      "\n",
      "medical_help \n",
      "              precision    recall  f1-score   support\n",
      "\n",
      "          0       0.93      0.99      0.96      4822\n",
      "          1       0.62      0.15      0.24       422\n",
      "\n",
      "avg / total       0.91      0.92      0.90      5244\n",
      "\n",
      "medical_products \n",
      "              precision    recall  f1-score   support\n",
      "\n",
      "          0       0.96      1.00      0.98      4974\n",
      "          1       0.70      0.14      0.23       270\n",
      "\n",
      "avg / total       0.94      0.95      0.94      5244\n",
      "\n",
      "search_and_rescue \n",
      "              precision    recall  f1-score   support\n",
      "\n",
      "          0       0.98      1.00      0.99      5117\n",
      "          1       0.45      0.07      0.12       127\n",
      "\n",
      "avg / total       0.96      0.98      0.97      5244\n",
      "\n",
      "security \n",
      "              precision    recall  f1-score   support\n",
      "\n",
      "          0       0.98      1.00      0.99      5156\n",
      "          1       0.50      0.01      0.02        88\n",
      "\n",
      "avg / total       0.98      0.98      0.98      5244\n",
      "\n",
      "military \n",
      "              precision    recall  f1-score   support\n",
      "\n",
      "          0       0.97      1.00      0.98      5089\n",
      "          1       0.46      0.12      0.19       155\n",
      "\n",
      "avg / total       0.96      0.97      0.96      5244\n",
      "\n",
      "water \n",
      "              precision    recall  f1-score   support\n",
      "\n",
      "          0       0.95      1.00      0.98      4905\n",
      "          1       0.89      0.31      0.46       339\n",
      "\n",
      "avg / total       0.95      0.95      0.94      5244\n",
      "\n",
      "food \n",
      "              precision    recall  f1-score   support\n",
      "\n",
      "          0       0.94      0.99      0.96      4649\n",
      "          1       0.82      0.50      0.62       595\n",
      "\n",
      "avg / total       0.93      0.93      0.92      5244\n",
      "\n",
      "shelter \n",
      "              precision    recall  f1-score   support\n",
      "\n",
      "          0       0.94      0.99      0.96      4774\n",
      "          1       0.82      0.32      0.46       470\n",
      "\n",
      "avg / total       0.93      0.93      0.92      5244\n",
      "\n",
      "clothing \n",
      "              precision    recall  f1-score   support\n",
      "\n",
      "          0       0.99      1.00      0.99      5171\n",
      "          1       0.82      0.12      0.21        73\n",
      "\n",
      "avg / total       0.99      0.99      0.98      5244\n",
      "\n",
      "money \n",
      "              precision    recall  f1-score   support\n",
      "\n",
      "          0       0.98      1.00      0.99      5140\n",
      "          1       0.56      0.10      0.16       104\n",
      "\n",
      "avg / total       0.97      0.98      0.97      5244\n",
      "\n",
      "missing_people \n",
      "              precision    recall  f1-score   support\n",
      "\n",
      "          0       0.99      1.00      0.99      5184\n",
      "          1       0.67      0.03      0.06        60\n",
      "\n",
      "avg / total       0.99      0.99      0.98      5244\n",
      "\n",
      "refugees \n",
      "              precision    recall  f1-score   support\n",
      "\n",
      "          0       0.97      1.00      0.98      5073\n",
      "          1       0.62      0.05      0.09       171\n",
      "\n",
      "avg / total       0.96      0.97      0.95      5244\n",
      "\n",
      "death \n",
      "              precision    recall  f1-score   support\n",
      "\n",
      "          0       0.96      1.00      0.98      5007\n",
      "          1       0.71      0.23      0.35       237\n",
      "\n",
      "avg / total       0.95      0.96      0.95      5244\n",
      "\n",
      "other_aid \n",
      "              precision    recall  f1-score   support\n",
      "\n",
      "          0       0.87      0.99      0.93      4549\n",
      "          1       0.52      0.06      0.11       695\n",
      "\n",
      "avg / total       0.83      0.87      0.82      5244\n",
      "\n",
      "infrastructure_related \n",
      "              precision    recall  f1-score   support\n",
      "\n",
      "          0       0.94      1.00      0.97      4916\n",
      "          1       0.33      0.02      0.03       328\n",
      "\n",
      "avg / total       0.90      0.94      0.91      5244\n",
      "\n",
      "transport \n",
      "              precision    recall  f1-score   support\n",
      "\n",
      "          0       0.96      1.00      0.98      5004\n",
      "          1       0.67      0.15      0.25       240\n",
      "\n",
      "avg / total       0.95      0.96      0.95      5244\n",
      "\n",
      "buildings \n",
      "              precision    recall  f1-score   support\n",
      "\n",
      "          0       0.96      1.00      0.98      4977\n",
      "          1       0.81      0.18      0.29       267\n",
      "\n",
      "avg / total       0.95      0.96      0.94      5244\n",
      "\n",
      "electricity \n",
      "              precision    recall  f1-score   support\n",
      "\n",
      "          0       0.98      1.00      0.99      5122\n",
      "          1       0.62      0.04      0.08       122\n",
      "\n",
      "avg / total       0.97      0.98      0.97      5244\n",
      "\n",
      "tools \n",
      "              precision    recall  f1-score   support\n",
      "\n",
      "          0       0.99      1.00      1.00      5212\n",
      "          1       1.00      0.03      0.06        32\n",
      "\n",
      "avg / total       0.99      0.99      0.99      5244\n",
      "\n",
      "hospitals \n",
      "              precision    recall  f1-score   support\n",
      "\n",
      "          0       0.99      1.00      1.00      5198\n",
      "          1       0.00      0.00      0.00        46\n",
      "\n",
      "avg / total       0.98      0.99      0.99      5244\n",
      "\n",
      "shops \n",
      "              precision    recall  f1-score   support\n",
      "\n",
      "          0       1.00      1.00      1.00      5222\n",
      "          1       0.00      0.00      0.00        22\n",
      "\n",
      "avg / total       0.99      1.00      0.99      5244\n",
      "\n",
      "aid_centers \n",
      "              precision    recall  f1-score   support\n",
      "\n",
      "          0       0.99      1.00      0.99      5177\n",
      "          1       0.00      0.00      0.00        67\n",
      "\n",
      "avg / total       0.97      0.99      0.98      5244\n",
      "\n",
      "other_infrastructure \n",
      "              precision    recall  f1-score   support\n",
      "\n",
      "          0       0.96      1.00      0.98      5021\n",
      "          1       0.23      0.01      0.03       223\n",
      "\n",
      "avg / total       0.93      0.96      0.94      5244\n",
      "\n",
      "weather_related \n",
      "              precision    recall  f1-score   support\n",
      "\n",
      "          0       0.87      0.95      0.91      3806\n",
      "          1       0.83      0.63      0.72      1438\n",
      "\n",
      "avg / total       0.86      0.86      0.86      5244\n",
      "\n",
      "floods \n",
      "              precision    recall  f1-score   support\n",
      "\n",
      "          0       0.95      0.99      0.97      4833\n",
      "          1       0.86      0.39      0.54       411\n",
      "\n",
      "avg / total       0.94      0.95      0.94      5244\n",
      "\n",
      "storm \n",
      "              precision    recall  f1-score   support\n",
      "\n",
      "          0       0.95      0.98      0.97      4758\n",
      "          1       0.72      0.52      0.60       486\n",
      "\n",
      "avg / total       0.93      0.94      0.93      5244\n",
      "\n",
      "fire \n",
      "              precision    recall  f1-score   support\n",
      "\n",
      "          0       0.99      1.00      0.99      5191\n",
      "          1       0.40      0.08      0.13        53\n",
      "\n",
      "avg / total       0.98      0.99      0.99      5244\n",
      "\n",
      "earthquake \n",
      "              precision    recall  f1-score   support\n",
      "\n",
      "          0       0.97      0.99      0.98      4766\n",
      "          1       0.87      0.68      0.76       478\n",
      "\n",
      "avg / total       0.96      0.96      0.96      5244\n",
      "\n",
      "cold \n",
      "              precision    recall  f1-score   support\n",
      "\n",
      "          0       0.98      1.00      0.99      5127\n",
      "          1       0.68      0.22      0.34       117\n",
      "\n",
      "avg / total       0.98      0.98      0.98      5244\n",
      "\n"
     ]
    },
    {
     "name": "stderr",
     "output_type": "stream",
     "text": [
      "/Users/carl.sharpe/anaconda3/lib/python3.6/site-packages/sklearn/metrics/classification.py:1135: UndefinedMetricWarning: Precision and F-score are ill-defined and being set to 0.0 in labels with no predicted samples.\n",
      "  'precision', 'predicted', average, warn_for)\n"
     ]
    }
   ],
   "source": [
    "from sklearn.metrics import classification_report\n",
    "for i in range (0, len(y_pred[0])-1):\n",
    "    truth = y_test.iloc[:,i:i+1]\n",
    "    prediction = y_pred[:,i:i+1]\n",
    "    print(y_test.columns[i], \"\\n\", classification_report(truth, prediction))"
   ]
  },
  {
   "cell_type": "markdown",
   "metadata": {},
   "source": [
    "### 9. Export your model as a pickle file"
   ]
  },
  {
   "cell_type": "code",
   "execution_count": 26,
   "metadata": {
    "ExecuteTime": {
     "end_time": "2019-02-06T15:11:40.953952Z",
     "start_time": "2019-02-06T15:11:40.053966Z"
    }
   },
   "outputs": [],
   "source": [
    "tokenizer_filename = \"tokenizer.pickle\"\n",
    "classifier_filename = \"classifier.pickle\"\n",
    "\n",
    "tokenizer_file = open(tokenizer_filename, 'wb')\n",
    "pickle.dump(tok, tokenizer_file)\n",
    "\n",
    "classifier_file = open(classifier_filename, 'wb')\n",
    "pickle.dump(pipeline, classifier_file)\n",
    "\n"
   ]
  },
  {
   "cell_type": "markdown",
   "metadata": {},
   "source": [
    "### 10. Use this notebook to complete `train.py`\n",
    "Use the template file attached in the Resources folder to write a script that runs the steps above to create a database and export a model based on a new dataset specified by the user."
   ]
  },
  {
   "cell_type": "code",
   "execution_count": null,
   "metadata": {},
   "outputs": [],
   "source": []
  }
 ],
 "metadata": {
  "kernelspec": {
   "display_name": "Python 3",
   "language": "python",
   "name": "python3"
  },
  "language_info": {
   "codemirror_mode": {
    "name": "ipython",
    "version": 3
   },
   "file_extension": ".py",
   "mimetype": "text/x-python",
   "name": "python",
   "nbconvert_exporter": "python",
   "pygments_lexer": "ipython3",
   "version": "3.6.3"
  }
 },
 "nbformat": 4,
 "nbformat_minor": 2
}
